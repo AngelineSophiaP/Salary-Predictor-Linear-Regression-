{
 "cells": [
  {
   "cell_type": "markdown",
   "id": "70857421-d018-4bc0-9645-808157ab3d91",
   "metadata": {},
   "source": [
    "## Dataset\n",
    "\n",
    "- 📂 **Source:** [Kaggle - Salary Data](https://www.kaggle.com/datasets/mohithsairamreddy/salary-data)\n",
    "- 💾 **Records:** 6,704 rows, 6 columns\n",
    "- 📝 **Columns:**  \n",
    "  - `Age`\n",
    "  - `Gender`\n",
    "  - `Education Level`\n",
    "  - `Job Title`\n",
    "  - `Years of Experience`\n",
    "  - `Salary`\n",
    "\n",
    "---\n",
    "\n",
    "## Goal 🎯\n",
    "\n",
    "The goal of this project is to **predict the `Salary`** of an employee based on multiple features such as:\n",
    "\n",
    "- Age\n",
    "- Gender\n",
    "- Education Level\n",
    "- Job Title\n",
    "- Years of Experience\n",
    "\n",
    "We will use **multivariable linear regression** to build a predictive model that estimates salary from these input features.\n"
   ]
  },
  {
   "cell_type": "code",
   "execution_count": 3,
   "id": "e350ac05-f033-4987-b8a3-61ae5a60b704",
   "metadata": {
    "scrolled": true
   },
   "outputs": [
    {
     "data": {
      "text/html": [
       "<div>\n",
       "<style scoped>\n",
       "    .dataframe tbody tr th:only-of-type {\n",
       "        vertical-align: middle;\n",
       "    }\n",
       "\n",
       "    .dataframe tbody tr th {\n",
       "        vertical-align: top;\n",
       "    }\n",
       "\n",
       "    .dataframe thead th {\n",
       "        text-align: right;\n",
       "    }\n",
       "</style>\n",
       "<table border=\"1\" class=\"dataframe\">\n",
       "  <thead>\n",
       "    <tr style=\"text-align: right;\">\n",
       "      <th></th>\n",
       "      <th>Age</th>\n",
       "      <th>Gender</th>\n",
       "      <th>Education Level</th>\n",
       "      <th>Job Title</th>\n",
       "      <th>Years of Experience</th>\n",
       "      <th>Salary</th>\n",
       "    </tr>\n",
       "  </thead>\n",
       "  <tbody>\n",
       "    <tr>\n",
       "      <th>0</th>\n",
       "      <td>32.0</td>\n",
       "      <td>Male</td>\n",
       "      <td>Bachelor's</td>\n",
       "      <td>Software Engineer</td>\n",
       "      <td>5.0</td>\n",
       "      <td>90000.0</td>\n",
       "    </tr>\n",
       "    <tr>\n",
       "      <th>1</th>\n",
       "      <td>28.0</td>\n",
       "      <td>Female</td>\n",
       "      <td>Master's</td>\n",
       "      <td>Data Analyst</td>\n",
       "      <td>3.0</td>\n",
       "      <td>65000.0</td>\n",
       "    </tr>\n",
       "    <tr>\n",
       "      <th>2</th>\n",
       "      <td>45.0</td>\n",
       "      <td>Male</td>\n",
       "      <td>PhD</td>\n",
       "      <td>Senior Manager</td>\n",
       "      <td>15.0</td>\n",
       "      <td>150000.0</td>\n",
       "    </tr>\n",
       "    <tr>\n",
       "      <th>3</th>\n",
       "      <td>36.0</td>\n",
       "      <td>Female</td>\n",
       "      <td>Bachelor's</td>\n",
       "      <td>Sales Associate</td>\n",
       "      <td>7.0</td>\n",
       "      <td>60000.0</td>\n",
       "    </tr>\n",
       "    <tr>\n",
       "      <th>4</th>\n",
       "      <td>52.0</td>\n",
       "      <td>Male</td>\n",
       "      <td>Master's</td>\n",
       "      <td>Director</td>\n",
       "      <td>20.0</td>\n",
       "      <td>200000.0</td>\n",
       "    </tr>\n",
       "  </tbody>\n",
       "</table>\n",
       "</div>"
      ],
      "text/plain": [
       "    Age  Gender Education Level          Job Title  Years of Experience  \\\n",
       "0  32.0    Male      Bachelor's  Software Engineer                  5.0   \n",
       "1  28.0  Female        Master's       Data Analyst                  3.0   \n",
       "2  45.0    Male             PhD     Senior Manager                 15.0   \n",
       "3  36.0  Female      Bachelor's    Sales Associate                  7.0   \n",
       "4  52.0    Male        Master's           Director                 20.0   \n",
       "\n",
       "     Salary  \n",
       "0   90000.0  \n",
       "1   65000.0  \n",
       "2  150000.0  \n",
       "3   60000.0  \n",
       "4  200000.0  "
      ]
     },
     "execution_count": 3,
     "metadata": {},
     "output_type": "execute_result"
    }
   ],
   "source": [
    "import pandas as pd\n",
    "df = pd.read_csv(\"Salary_Data.csv\")\n",
    "df.head()"
   ]
  },
  {
   "cell_type": "code",
   "execution_count": 2,
   "id": "f674aa63-ef2d-477f-a0f4-3a0931571a97",
   "metadata": {},
   "outputs": [
    {
     "name": "stdout",
     "output_type": "stream",
     "text": [
      "<class 'pandas.core.frame.DataFrame'>\n",
      "RangeIndex: 6704 entries, 0 to 6703\n",
      "Data columns (total 6 columns):\n",
      " #   Column               Non-Null Count  Dtype  \n",
      "---  ------               --------------  -----  \n",
      " 0   Age                  6702 non-null   float64\n",
      " 1   Gender               6702 non-null   object \n",
      " 2   Education Level      6701 non-null   object \n",
      " 3   Job Title            6702 non-null   object \n",
      " 4   Years of Experience  6701 non-null   float64\n",
      " 5   Salary               6699 non-null   float64\n",
      "dtypes: float64(3), object(3)\n",
      "memory usage: 314.4+ KB\n"
     ]
    }
   ],
   "source": [
    "df.info()"
   ]
  },
  {
   "cell_type": "markdown",
   "id": "0ea29bc3-e644-4041-95a4-4133d9d9e830",
   "metadata": {},
   "source": [
    "## Data Cleaning\n",
    "\n",
    "There are **6704 total records** in the dataset. However, none of the columns are completely filled:\n",
    "\n",
    "- `Age` has data for 6702 rows  \n",
    "- `Gender` has data for 6702 rows  \n",
    "- `Education Level` has data for 6701 rows  \n",
    "- `Job Title` has data for 6702 rows  \n",
    "- `Years of Experience` has data for 6701 rows  \n",
    "- `Salary` has data for 6699 rows\n",
    "\n",
    "This means **every column has some missing values**, so we performed data cleaning by **dropping rows with any null values**. After this cleaning step, our dataset has fewer rows, but no missing values.\n"
   ]
  },
  {
   "cell_type": "code",
   "execution_count": 4,
   "id": "bd3f7ab6-f1ee-448d-a4b2-c39db2ba7eb9",
   "metadata": {},
   "outputs": [],
   "source": [
    "df_clean = df.dropna().copy()"
   ]
  },
  {
   "cell_type": "code",
   "execution_count": 4,
   "id": "6351809f-0388-4b7e-b132-1c2f72828755",
   "metadata": {},
   "outputs": [
    {
     "name": "stdout",
     "output_type": "stream",
     "text": [
      "<class 'pandas.core.frame.DataFrame'>\n",
      "Index: 6698 entries, 0 to 6703\n",
      "Data columns (total 6 columns):\n",
      " #   Column               Non-Null Count  Dtype  \n",
      "---  ------               --------------  -----  \n",
      " 0   Age                  6698 non-null   float64\n",
      " 1   Gender               6698 non-null   object \n",
      " 2   Education Level      6698 non-null   object \n",
      " 3   Job Title            6698 non-null   object \n",
      " 4   Years of Experience  6698 non-null   float64\n",
      " 5   Salary               6698 non-null   float64\n",
      "dtypes: float64(3), object(3)\n",
      "memory usage: 366.3+ KB\n"
     ]
    }
   ],
   "source": [
    "df_clean.info()"
   ]
  },
  {
   "cell_type": "markdown",
   "id": "33cfae39-c820-463b-9bbf-3bf000a0f24c",
   "metadata": {},
   "source": [
    "## Data Overview After Cleaning\n",
    "\n",
    "After dropping rows with missing values, our dataset now looks like this:\n",
    "\n",
    "- **Total Records:** 6,698 rows\n",
    "- **Columns:** 6 features\n",
    "\n",
    "| Column               | Non-Null Count | Data Type |\n",
    "|-----------------------|----------------|-----------|\n",
    "| Age                   | 6,698          | float64   |\n",
    "| Gender                | 6,698          | object    |\n",
    "| Education Level       | 6,698          | object    |\n",
    "| Job Title             | 6,698          | object    |\n",
    "| Years of Experience   | 6,698          | float64   |\n",
    "| Salary                | 6,698          | float64   |\n",
    "\n",
    "This means our dataset is now **completely free of missing values**, and ready for encoding and modeling.\n"
   ]
  },
  {
   "cell_type": "markdown",
   "id": "ff1f476a-fdfd-481f-9124-6eec4f5c9237",
   "metadata": {},
   "source": [
    "### 🔄 Converting Categorical Values to Numerical Values\n",
    "\n",
    "In order to use categorical data in machine learning models, we need to convert them into numerical form. Most algorithms, including **Linear Regression**, require all input features to be numeric.\n",
    "\n",
    "In our dataset, the `Gender` column contains categorical values: `'Male'` and `'Female'`.\n",
    "\n",
    "We convert them using **label encoding**:\n",
    "\n",
    "```python\n",
    "df_clean['Gender'] = df_clean['Gender'].map({'Male': 0, 'Female': 1})\n"
   ]
  },
  {
   "cell_type": "code",
   "execution_count": 5,
   "id": "515e12cb-ba8c-4490-87a1-65b2a17d7ca0",
   "metadata": {},
   "outputs": [],
   "source": [
    "df_clean['Gender'] = df_clean['Gender'].map({'Male': 0, 'Female': 1})\n"
   ]
  },
  {
   "cell_type": "code",
   "execution_count": 6,
   "id": "df564445-09c5-4123-8695-386476cb5e47",
   "metadata": {},
   "outputs": [
    {
     "name": "stdout",
     "output_type": "stream",
     "text": [
      "0       0.0\n",
      "1       1.0\n",
      "2       0.0\n",
      "3       1.0\n",
      "4       0.0\n",
      "       ... \n",
      "6699    1.0\n",
      "6700    0.0\n",
      "6701    1.0\n",
      "6702    0.0\n",
      "6703    1.0\n",
      "Name: Gender, Length: 6698, dtype: float64\n"
     ]
    }
   ],
   "source": [
    "print(df_clean['Gender'])"
   ]
  },
  {
   "cell_type": "markdown",
   "id": "dd86804f-bb03-4c37-9055-bb8f4aea9164",
   "metadata": {},
   "source": [
    "### 🎓 Encoding Education Level into Numerical Format\n",
    "\n",
    "The `Education Level` column in our dataset contains ordinal categorical values such as:\n",
    "\n",
    "- High School\n",
    "- Bachelor's\n",
    "- Master's\n",
    "- PhD\n",
    "\n",
    "These categories have a natural order, so we apply **ordinal encoding** to convert them into numeric values, preserving their ranking:\n",
    "\n",
    "```python\n",
    "education_order = {\n",
    "    \"High School\": 0,\n",
    "    \"Bachelor's\": 1,\n",
    "    \"Master's\": 2,\n",
    "    \"PhD\": 3\n",
    "}\n",
    "df_clean['Education Level'] = df_clean['Education Level'].map(education_order)\n"
   ]
  },
  {
   "cell_type": "code",
   "execution_count": 7,
   "id": "a7b0d212-7a87-460d-8385-dab66c004a11",
   "metadata": {},
   "outputs": [
    {
     "name": "stdout",
     "output_type": "stream",
     "text": [
      "  Education Level\n",
      "0      Bachelor's\n",
      "1        Master's\n",
      "2             PhD\n",
      "3      Bachelor's\n",
      "4        Master's\n",
      "5      Bachelor's\n",
      "6        Master's\n",
      "7      Bachelor's\n",
      "8      Bachelor's\n",
      "9             PhD\n"
     ]
    }
   ],
   "source": [
    "print(df_clean[['Education Level']].head(10))\n"
   ]
  },
  {
   "cell_type": "code",
   "execution_count": 8,
   "id": "aa95a10e-7535-43b4-b9cd-e31470a7844a",
   "metadata": {},
   "outputs": [],
   "source": [
    "education_order = {\n",
    "    \"High School\": 0,\n",
    "    \"Bachelor's\": 1,\n",
    "    \"Master's\": 2,\n",
    "    \"PhD\": 3\n",
    "}\n",
    "df_clean['Education Level'] = df_clean['Education Level'].map(education_order)\n"
   ]
  },
  {
   "cell_type": "code",
   "execution_count": 9,
   "id": "bbce8500-915b-4692-95b0-2618a3b4d1e3",
   "metadata": {},
   "outputs": [
    {
     "name": "stdout",
     "output_type": "stream",
     "text": [
      "   Education Level\n",
      "0              1.0\n",
      "1              2.0\n",
      "2              3.0\n",
      "3              1.0\n",
      "4              2.0\n",
      "5              1.0\n",
      "6              2.0\n",
      "7              1.0\n",
      "8              1.0\n",
      "9              3.0\n"
     ]
    }
   ],
   "source": [
    "print(df_clean[['Education Level']].head(10))\n"
   ]
  },
  {
   "cell_type": "markdown",
   "id": "5e4d2dce-250b-444a-ae76-3cdaffbc350e",
   "metadata": {},
   "source": [
    "### 💼 One-Hot Encoding for Job Title\n",
    "\n",
    "The `Job Title` column is a **nominal categorical variable** — it contains multiple unique job titles with no inherent order. To convert it into a numerical format suitable for machine learning models, we apply **One-Hot Encoding**.\n",
    "\n",
    "We use the `pd.get_dummies()` function to create binary (0 or 1) columns for each unique job title:\n",
    "\n",
    "```python\n",
    "df_clean = pd.get_dummies(df_clean, columns=['Job Title'], drop_first=True, dtype=int)\n"
   ]
  },
  {
   "cell_type": "code",
   "execution_count": 10,
   "id": "41f76d6b-0702-4bb3-b2f0-6cc8fc173146",
   "metadata": {},
   "outputs": [],
   "source": [
    "df_clean = pd.get_dummies(df_clean, columns=['Job Title'], drop_first=True, dtype=int)\n"
   ]
  },
  {
   "cell_type": "code",
   "execution_count": 11,
   "id": "83f7490a-b3f0-4be6-b9b6-329d07c5faaf",
   "metadata": {},
   "outputs": [
    {
     "name": "stdout",
     "output_type": "stream",
     "text": [
      "    Age  Gender  Education Level  Years of Experience    Salary  \\\n",
      "0  32.0     0.0              1.0                  5.0   90000.0   \n",
      "1  28.0     1.0              2.0                  3.0   65000.0   \n",
      "2  45.0     0.0              3.0                 15.0  150000.0   \n",
      "3  36.0     1.0              1.0                  7.0   60000.0   \n",
      "4  52.0     0.0              2.0                 20.0  200000.0   \n",
      "\n",
      "   Job Title_Accountant  Job Title_Administrative Assistant  \\\n",
      "0                     0                                   0   \n",
      "1                     0                                   0   \n",
      "2                     0                                   0   \n",
      "3                     0                                   0   \n",
      "4                     0                                   0   \n",
      "\n",
      "   Job Title_Back end Developer  Job Title_Business Analyst  \\\n",
      "0                             0                           0   \n",
      "1                             0                           0   \n",
      "2                             0                           0   \n",
      "3                             0                           0   \n",
      "4                             0                           0   \n",
      "\n",
      "   Job Title_Business Development Manager  ...  \\\n",
      "0                                       0  ...   \n",
      "1                                       0  ...   \n",
      "2                                       0  ...   \n",
      "3                                       0  ...   \n",
      "4                                       0  ...   \n",
      "\n",
      "   Job Title_Supply Chain Manager  Job Title_Technical Recruiter  \\\n",
      "0                               0                              0   \n",
      "1                               0                              0   \n",
      "2                               0                              0   \n",
      "3                               0                              0   \n",
      "4                               0                              0   \n",
      "\n",
      "   Job Title_Technical Support Specialist  Job Title_Technical Writer  \\\n",
      "0                                       0                           0   \n",
      "1                                       0                           0   \n",
      "2                                       0                           0   \n",
      "3                                       0                           0   \n",
      "4                                       0                           0   \n",
      "\n",
      "   Job Title_Training Specialist  Job Title_UX Designer  \\\n",
      "0                              0                      0   \n",
      "1                              0                      0   \n",
      "2                              0                      0   \n",
      "3                              0                      0   \n",
      "4                              0                      0   \n",
      "\n",
      "   Job Title_UX Researcher  Job Title_VP of Finance  \\\n",
      "0                        0                        0   \n",
      "1                        0                        0   \n",
      "2                        0                        0   \n",
      "3                        0                        0   \n",
      "4                        0                        0   \n",
      "\n",
      "   Job Title_VP of Operations  Job Title_Web Developer  \n",
      "0                           0                        0  \n",
      "1                           0                        0  \n",
      "2                           0                        0  \n",
      "3                           0                        0  \n",
      "4                           0                        0  \n",
      "\n",
      "[5 rows x 195 columns]\n"
     ]
    }
   ],
   "source": [
    "print(df_clean.head())"
   ]
  },
  {
   "cell_type": "markdown",
   "id": "a6086399-fef2-4af5-97dc-d19f48d4cfbf",
   "metadata": {},
   "source": [
    "### 📊 Visualizing Salary Distribution\n",
    "\n",
    "To better understand the spread and pattern of salaries in our dataset, we plot a histogram with a Kernel Density Estimate (KDE) curve using Seaborn and Matplotlib.\n",
    "\n",
    "- **Histogram** shows how frequently salary values occur within specific ranges.\n",
    "- **KDE curve** smooths the distribution and helps us see the overall shape (e.g., skewed or normal).\n",
    "\n",
    "This visualization helps in identifying:\n",
    "- Whether the salary distribution is skewed (left or right)\n",
    "- The range where most salaries fall\n",
    "- Presence of any potential outliers\n",
    "\n",
    "A light blue color is used for clarity, and the plot is customized with axis labels and a title for better readability.\n"
   ]
  },
  {
   "cell_type": "code",
   "execution_count": 12,
   "id": "b7b7ce31-8c0d-43c5-ab30-1a770237e6f8",
   "metadata": {},
   "outputs": [
    {
     "data": {
      "image/png": "[encoded data removed]",
      "text/plain": [
       "<Figure size 800x500 with 1 Axes>"
      ]
     },
     "metadata": {},
     "output_type": "display_data"
    }
   ],
   "source": [
    "import matplotlib.pyplot as plt\n",
    "import seaborn as sns\n",
    "\n",
    "plt.figure(figsize=(8,5))\n",
    "sns.histplot(df_clean['Salary'], kde=True, color='skyblue', bins=30)\n",
    "plt.title('Salary Distribution')\n",
    "plt.xlabel('Salary')\n",
    "plt.ylabel('Count')\n",
    "plt.show()\n"
   ]
  },
  {
   "cell_type": "markdown",
   "id": "e6846c6f-7094-4cf6-ab0b-0d6d3fb5ad35",
   "metadata": {},
   "source": [
    "### 📈 Scatter Plot: Salary vs Age\n",
    "\n",
    "To explore the relationship between an individual's age and their salary, we use a scatter plot.\n",
    "\n",
    "- The **x-axis** represents `Age`\n",
    "- The **y-axis** represents `Salary`\n",
    "- Each point corresponds to one observation (a person in the dataset)\n",
    "\n",
    "This plot helps in identifying:\n",
    "- Trends or patterns (e.g., does salary increase with age?)\n",
    "- Any clusters or groups\n",
    "- Outliers or unusual data points\n",
    "\n",
    "We use a teal color for better visual clarity and customize the plot with labels and a title.\n"
   ]
  },
  {
   "cell_type": "code",
   "execution_count": null,
   "id": "80bb3f5e-5ae1-410a-93a8-d8603db775b0",
   "metadata": {},
   "outputs": [
    {
     "data": {
      "image/png": "[encoded data removed]",
      "text/plain": [
       "<Figure size 800x500 with 1 Axes>"
      ]
     },
     "metadata": {},
     "output_type": "display_data"
    }
   ],
   "source": [
    "plt.figure(figsize=(8,5))\n",
    "sns.scatterplot(x='Age', y='Salary', data=df_clean, color='teal')\n",
    "plt.title('Salary vs Age')\n",
    "plt.xlabel('Age')\n",
    "plt.ylabel('Salary')\n",
    "plt.show()\n"
   ]
  },
  {
   "cell_type": "markdown",
   "id": "bd12499f-1feb-4236-a96e-456db6986586",
   "metadata": {},
   "source": [
    "### 📉 Scatter Plot: Salary vs Years of Experience\n",
    "\n",
    "This scatter plot visualizes the relationship between an individual's **years of experience** and their **salary**.\n",
    "\n",
    "- **X-axis**: Years of Experience  \n",
    "- **Y-axis**: Salary  \n",
    "- **Each point**: Represents one individual from the dataset\n",
    "\n",
    "This plot helps to observe:\n",
    "- Whether there is a **positive correlation** between experience and salary\n",
    "- The **trend or linearity** in the data (important for linear regression)\n",
    "- Any **outliers** or unusual patterns\n",
    "\n",
    "A purple color is used to distinguish this plot, and clear axis labels and a title improve interpretability.\n"
   ]
  },
  {
   "cell_type": "code",
   "execution_count": null,
   "id": "9ce1cc17-a8d9-4765-8920-225471f87110",
   "metadata": {},
   "outputs": [
    {
     "data": {
      "image/png": "[encoded data removed]",
      "text/plain": [
       "<Figure size 800x500 with 1 Axes>"
      ]
     },
     "metadata": {},
     "output_type": "display_data"
    }
   ],
   "source": [
    "plt.figure(figsize=(8,5))\n",
    "sns.scatterplot(x='Years of Experience', y='Salary', data=df_clean, color='purple')\n",
    "plt.title('Salary vs Years of Experience')\n",
    "plt.xlabel('Years of Experience')\n",
    "plt.ylabel('Salary')\n",
    "plt.show()\n"
   ]
  },
  {
   "cell_type": "markdown",
   "id": "5e498034-22cf-40cb-b702-1ecab73d345d",
   "metadata": {},
   "source": [
    "### 📦 Box Plot: Salary vs Education Level\n",
    "\n",
    "This box plot visualizes the distribution of **Salary** across different levels of **Education**, which have been numerically encoded as:\n",
    "\n",
    "- `0` = High School  \n",
    "- `1` = Bachelor's  \n",
    "- `2` = Master's  \n",
    "- `3` = PhD\n",
    "\n",
    "The box plot helps us understand:\n",
    "- The **median salary** for each education level (the central line in each box)\n",
    "- The **spread (IQR)** of salaries (box height)\n",
    "- Any **outliers** (dots outside the whiskers)\n",
    "- How salary generally increases (or not) with higher education levels\n",
    "\n",
    "This visual comparison provides insights into whether advanced education levels are associated with higher income ranges.\n"
   ]
  },
  {
   "cell_type": "code",
   "execution_count": 13,
   "id": "2ebfbc4b-a780-44d4-a4f3-ef1c9e5f4d45",
   "metadata": {},
   "outputs": [
    {
     "data": {
      "image/png": "[encoded data removed]",
      "text/plain": [
       "<Figure size 800x500 with 1 Axes>"
      ]
     },
     "metadata": {},
     "output_type": "display_data"
    }
   ],
   "source": [
    "plt.figure(figsize=(8,5))\n",
    "sns.boxplot(x='Education Level', y='Salary', data=df_clean, color='teal')\n",
    "plt.title('Salary vs Education Level')\n",
    "plt.xlabel('Education Level (0=High School, 1=Bachelor, 2=Master, 3=PhD)')\n",
    "plt.ylabel('Salary')\n",
    "plt.show()\n"
   ]
  },
  {
   "cell_type": "code",
   "execution_count": 14,
   "id": "76e19932-3b75-417e-a078-8e4e0655a785",
   "metadata": {},
   "outputs": [
    {
     "name": "stdout",
     "output_type": "stream",
     "text": [
      "    Age  Gender  Education Level  Years of Experience    Salary  \\\n",
      "0  32.0     0.0              1.0                  5.0   90000.0   \n",
      "1  28.0     1.0              2.0                  3.0   65000.0   \n",
      "2  45.0     0.0              3.0                 15.0  150000.0   \n",
      "3  36.0     1.0              1.0                  7.0   60000.0   \n",
      "4  52.0     0.0              2.0                 20.0  200000.0   \n",
      "\n",
      "   Job Title_Accountant  Job Title_Administrative Assistant  \\\n",
      "0                     0                                   0   \n",
      "1                     0                                   0   \n",
      "2                     0                                   0   \n",
      "3                     0                                   0   \n",
      "4                     0                                   0   \n",
      "\n",
      "   Job Title_Back end Developer  Job Title_Business Analyst  \\\n",
      "0                             0                           0   \n",
      "1                             0                           0   \n",
      "2                             0                           0   \n",
      "3                             0                           0   \n",
      "4                             0                           0   \n",
      "\n",
      "   Job Title_Business Development Manager  ...  \\\n",
      "0                                       0  ...   \n",
      "1                                       0  ...   \n",
      "2                                       0  ...   \n",
      "3                                       0  ...   \n",
      "4                                       0  ...   \n",
      "\n",
      "   Job Title_Supply Chain Manager  Job Title_Technical Recruiter  \\\n",
      "0                               0                              0   \n",
      "1                               0                              0   \n",
      "2                               0                              0   \n",
      "3                               0                              0   \n",
      "4                               0                              0   \n",
      "\n",
      "   Job Title_Technical Support Specialist  Job Title_Technical Writer  \\\n",
      "0                                       0                           0   \n",
      "1                                       0                           0   \n",
      "2                                       0                           0   \n",
      "3                                       0                           0   \n",
      "4                                       0                           0   \n",
      "\n",
      "   Job Title_Training Specialist  Job Title_UX Designer  \\\n",
      "0                              0                      0   \n",
      "1                              0                      0   \n",
      "2                              0                      0   \n",
      "3                              0                      0   \n",
      "4                              0                      0   \n",
      "\n",
      "   Job Title_UX Researcher  Job Title_VP of Finance  \\\n",
      "0                        0                        0   \n",
      "1                        0                        0   \n",
      "2                        0                        0   \n",
      "3                        0                        0   \n",
      "4                        0                        0   \n",
      "\n",
      "   Job Title_VP of Operations  Job Title_Web Developer  \n",
      "0                           0                        0  \n",
      "1                           0                        0  \n",
      "2                           0                        0  \n",
      "3                           0                        0  \n",
      "4                           0                        0  \n",
      "\n",
      "[5 rows x 195 columns]\n"
     ]
    }
   ],
   "source": [
    "print(df_clean.head())"
   ]
  },
  {
   "cell_type": "markdown",
   "id": "2f41d6b3-9345-429f-b8fe-626ebe1cd239",
   "metadata": {},
   "source": [
    "### 📦 Box Plot: Salary vs Gender\n",
    "\n",
    "This box plot shows how **Salary** varies between different **Genders** in the dataset.\n",
    "\n",
    "- `0` = Male  \n",
    "- `1` = Female\n",
    "\n",
    "The plot allows us to:\n",
    "- Compare the **median salaries** between males and females\n",
    "- Observe the **spread** of salary values (via the interquartile range)\n",
    "- Detect any **outliers**\n",
    "- Understand if there's a noticeable **salary gap** between genders\n",
    "\n",
    "By visualizing this relationship, we can explore potential disparities or patterns in salary distribution across gender groups.\n"
   ]
  },
  {
   "cell_type": "code",
   "execution_count": null,
   "id": "0c653f31-8b1f-48d2-be01-73b93d5362af",
   "metadata": {},
   "outputs": [
    {
     "data": {
      "image/png": "[encoded data removed]",
      "text/plain": [
       "<Figure size 800x500 with 1 Axes>"
      ]
     },
     "metadata": {},
     "output_type": "display_data"
    }
   ],
   "source": [
    "plt.figure(figsize=(8,5))\n",
    "sns.boxplot(x='Gender', y='Salary', data=df_clean)\n",
    "plt.title('Salary vs Gender')\n",
    "plt.xlabel('Gender (0=Male, 1=Female)')\n",
    "plt.ylabel('Salary')\n",
    "plt.show()\n"
   ]
  },
  {
   "cell_type": "markdown",
   "id": "e4d98c40-0d59-4465-8c21-7d1264ba037e",
   "metadata": {},
   "source": [
    "### 📊 Correlation Analysis: Salary vs Other Features\n",
    "\n",
    "The **Pearson correlation coefficient** measures the **strength and direction** of the linear relationship between two numerical variables. It ranges from:\n",
    "\n",
    "- `+1`: Perfect positive correlation  \n",
    "- `0`: No linear correlation  \n",
    "- `-1`: Perfect negative correlation\n",
    "\n",
    "Here are the correlation values with `Salary`:\n",
    "\n",
    "- **Salary vs Age**: `0.728`  \n",
    "  → Strong **positive correlation**. Older individuals tend to earn higher salaries.\n",
    "\n",
    "- **Salary vs Years of Experience**: `0.809`  \n",
    "  → Very strong **positive correlation**. More experience strongly relates to higher salary.\n",
    "\n",
    "- **Salary vs Education Level**: `0.705`  \n",
    "  → Strong **positive correlation**. Higher education levels are associated with higher salaries.\n",
    "\n",
    "- **Salary vs Gender**: `-0.127`  \n",
    "  → Weak **negative correlation**. Slight indication that females (encoded as 1) may earn marginally less, but the effect is weak.\n",
    "\n",
    "- **Salary vs Job Title\\_***: ~`0.0`  \n",
    "  → Very weak or no linear correlation. This is expected because job titles are one-hot encoded, and individual binary columns don't show strong linear correlation.\n",
    "\n",
    "🧠 **Conclusion**:\n",
    "- **Years of Experience**, **Education Level**, and **Age** are strong predictors of Salary.\n",
    "- **Gender** and **Job Title** have minimal linear impact based on correlation alone.\n",
    "\n"
   ]
  },
  {
   "cell_type": "code",
   "execution_count": 14,
   "id": "80d268c5-8c42-455c-9f98-4403daec51d8",
   "metadata": {},
   "outputs": [
    {
     "name": "stdout",
     "output_type": "stream",
     "text": [
      "Salary vs Age: 0.728060629636743\n",
      "Salary vs Gender: -0.1272761667344601\n",
      "Salary vs Years of Experience: 0.8089681695139435\n"
     ]
    }
   ],
   "source": [
    "print(\"Salary vs Age:\", df_clean['Salary'].corr(df_clean['Age']))\n",
    "print(\"Salary vs Gender:\", df_clean['Salary'].corr(df_clean['Gender']))\n",
    "\n",
    "print(\"Salary vs Years of Experience:\", df_clean['Salary'].corr(df_clean['Years of Experience']))\n",
    "\n"
   ]
  },
  {
   "cell_type": "code",
   "execution_count": 24,
   "id": "5f949d09-a2dd-42f9-9a2b-6da209402206",
   "metadata": {},
   "outputs": [
    {
     "name": "stdout",
     "output_type": "stream",
     "text": [
      "Salary vs Job Title_Accountant: -0.014\n",
      "Salary vs Job Title_Administrative Assistant: -0.021\n",
      "Salary vs Job Title_Back end Developer: -0.048\n",
      "Salary vs Job Title_Business Analyst: -0.012\n",
      "Salary vs Job Title_Business Development Manager: -0.006\n",
      "Salary vs Job Title_Business Intelligence Analyst: -0.007\n",
      "Salary vs Job Title_CEO: 0.031\n",
      "Salary vs Job Title_Chief Data Officer: 0.024\n",
      "Salary vs Job Title_Chief Technology Officer: 0.031\n",
      "Salary vs Job Title_Content Marketing Manager: 0.016\n",
      "Salary vs Job Title_Copywriter: -0.017\n",
      "Salary vs Job Title_Creative Director: 0.001\n",
      "Salary vs Job Title_Customer Service Manager: -0.003\n",
      "Salary vs Job Title_Customer Service Rep: -0.017\n",
      "Salary vs Job Title_Customer Service Representative: -0.047\n",
      "Salary vs Job Title_Customer Success Manager: -0.017\n",
      "Salary vs Job Title_Customer Success Rep: -0.017\n",
      "Salary vs Job Title_Data Analyst: 0.044\n",
      "Salary vs Job Title_Data Entry Clerk: -0.019\n",
      "Salary vs Job Title_Data Scientist: 0.259\n",
      "Salary vs Job Title_Delivery Driver: -0.045\n",
      "Salary vs Job Title_Digital Content Producer: -0.015\n",
      "Salary vs Job Title_Digital Marketing Manager: -0.037\n",
      "Salary vs Job Title_Digital Marketing Specialist: -0.047\n",
      "Salary vs Job Title_Director: 0.020\n",
      "Salary vs Job Title_Director of Business Development: 0.013\n",
      "Salary vs Job Title_Director of Data Science: 0.157\n",
      "Salary vs Job Title_Director of Engineering: 0.021\n",
      "Salary vs Job Title_Director of Finance: 0.020\n",
      "Salary vs Job Title_Director of HR: 0.013\n",
      "Salary vs Job Title_Director of Human Capital: 0.015\n",
      "Salary vs Job Title_Director of Human Resources: 0.024\n",
      "Salary vs Job Title_Director of Marketing: 0.049\n",
      "Salary vs Job Title_Director of Operations: 0.044\n",
      "Salary vs Job Title_Director of Product Management: 0.014\n",
      "Salary vs Job Title_Director of Sales: 0.014\n",
      "Salary vs Job Title_Director of Sales and Marketing: 0.015\n",
      "Salary vs Job Title_Event Coordinator: -0.021\n",
      "Salary vs Job Title_Financial Advisor: -0.005\n",
      "Salary vs Job Title_Financial Analyst: -0.040\n",
      "Salary vs Job Title_Financial Manager: 0.075\n",
      "Salary vs Job Title_Front End Developer: -0.049\n",
      "Salary vs Job Title_Front end Developer: -0.112\n",
      "Salary vs Job Title_Full Stack Engineer: 0.047\n",
      "Salary vs Job Title_Graphic Designer: -0.071\n",
      "Salary vs Job Title_HR Generalist: -0.015\n",
      "Salary vs Job Title_HR Manager: -0.002\n",
      "Salary vs Job Title_Help Desk Analyst: -0.019\n",
      "Salary vs Job Title_Human Resources Coordinator: -0.108\n",
      "Salary vs Job Title_Human Resources Director: 0.015\n",
      "Salary vs Job Title_Human Resources Manager: -0.016\n",
      "Salary vs Job Title_IT Manager: 0.001\n",
      "Salary vs Job Title_IT Support: -0.015\n",
      "Salary vs Job Title_IT Support Specialist: -0.013\n",
      "Salary vs Job Title_Junior Account Manager: -0.021\n",
      "Salary vs Job Title_Junior Accountant: -0.030\n",
      "Salary vs Job Title_Junior Advertising Coordinator: -0.016\n",
      "Salary vs Job Title_Junior Business Analyst: -0.043\n",
      "Salary vs Job Title_Junior Business Development Associate: -0.046\n",
      "Salary vs Job Title_Junior Business Operations Analyst: -0.032\n",
      "Salary vs Job Title_Junior Copywriter: -0.016\n",
      "Salary vs Job Title_Junior Customer Support Specialist: -0.019\n",
      "Salary vs Job Title_Junior Data Analyst: -0.074\n",
      "Salary vs Job Title_Junior Data Scientist: -0.016\n",
      "Salary vs Job Title_Junior Designer: -0.017\n",
      "Salary vs Job Title_Junior Developer: -0.017\n",
      "Salary vs Job Title_Junior Financial Advisor: -0.012\n",
      "Salary vs Job Title_Junior Financial Analyst: -0.038\n",
      "Salary vs Job Title_Junior HR Coordinator: -0.098\n",
      "Salary vs Job Title_Junior HR Generalist: -0.139\n",
      "Salary vs Job Title_Junior Marketing Analyst: -0.027\n",
      "Salary vs Job Title_Junior Marketing Coordinator: -0.039\n",
      "Salary vs Job Title_Junior Marketing Manager: -0.086\n",
      "Salary vs Job Title_Junior Marketing Specialist: -0.032\n",
      "Salary vs Job Title_Junior Operations Analyst: -0.033\n",
      "Salary vs Job Title_Junior Operations Coordinator: -0.017\n",
      "Salary vs Job Title_Junior Operations Manager: -0.024\n",
      "Salary vs Job Title_Junior Product Manager: -0.027\n",
      "Salary vs Job Title_Junior Project Manager: -0.035\n",
      "Salary vs Job Title_Junior Recruiter: -0.016\n",
      "Salary vs Job Title_Junior Research Scientist: -0.015\n",
      "Salary vs Job Title_Junior Sales Associate: -0.243\n",
      "Salary vs Job Title_Junior Sales Representative: -0.117\n",
      "Salary vs Job Title_Junior Social Media Manager: -0.016\n",
      "Salary vs Job Title_Junior Social Media Specialist: -0.016\n",
      "Salary vs Job Title_Junior Software Developer: -0.141\n",
      "Salary vs Job Title_Junior Software Engineer: -0.108\n",
      "Salary vs Job Title_Junior UX Designer: -0.016\n",
      "Salary vs Job Title_Junior Web Designer: -0.016\n",
      "Salary vs Job Title_Junior Web Developer: -0.105\n",
      "Salary vs Job Title_Juniour HR Coordinator: -0.033\n",
      "Salary vs Job Title_Juniour HR Generalist: -0.029\n",
      "Salary vs Job Title_Marketing Analyst: -0.141\n",
      "Salary vs Job Title_Marketing Coordinator: -0.101\n",
      "Salary vs Job Title_Marketing Director: 0.128\n",
      "Salary vs Job Title_Marketing Manager: 0.007\n",
      "Salary vs Job Title_Marketing Specialist: -0.012\n",
      "Salary vs Job Title_Network Engineer: -0.013\n",
      "Salary vs Job Title_Office Manager: -0.012\n",
      "Salary vs Job Title_Operations Analyst: -0.001\n",
      "Salary vs Job Title_Operations Director: 0.017\n",
      "Salary vs Job Title_Operations Manager: -0.048\n",
      "Salary vs Job Title_Principal Engineer: 0.013\n",
      "Salary vs Job Title_Principal Scientist: 0.001\n",
      "Salary vs Job Title_Product Designer: -0.119\n",
      "Salary vs Job Title_Product Manager: 0.114\n",
      "Salary vs Job Title_Product Marketing Manager: -0.005\n",
      "Salary vs Job Title_Project Engineer: -0.000\n",
      "Salary vs Job Title_Project Manager: 0.004\n",
      "Salary vs Job Title_Public Relations Manager: -0.006\n",
      "Salary vs Job Title_Receptionist: -0.159\n",
      "Salary vs Job Title_Recruiter: -0.016\n",
      "Salary vs Job Title_Research Director: 0.097\n",
      "Salary vs Job Title_Research Scientist: 0.097\n",
      "Salary vs Job Title_Sales Associate: -0.155\n",
      "Salary vs Job Title_Sales Director: 0.016\n",
      "Salary vs Job Title_Sales Executive: -0.103\n",
      "Salary vs Job Title_Sales Manager: -0.022\n",
      "Salary vs Job Title_Sales Operations Manager: -0.001\n",
      "Salary vs Job Title_Sales Representative: -0.102\n",
      "Salary vs Job Title_Senior Account Executive: -0.005\n",
      "Salary vs Job Title_Senior Account Manager: -0.001\n",
      "Salary vs Job Title_Senior Accountant: -0.010\n",
      "Salary vs Job Title_Senior Business Analyst: 0.000\n",
      "Salary vs Job Title_Senior Business Development Manager: -0.002\n",
      "Salary vs Job Title_Senior Consultant: 0.006\n",
      "Salary vs Job Title_Senior Data Analyst: 0.016\n",
      "Salary vs Job Title_Senior Data Engineer: 0.018\n",
      "Salary vs Job Title_Senior Data Scientist: 0.065\n",
      "Salary vs Job Title_Senior Engineer: 0.004\n",
      "Salary vs Job Title_Senior Financial Advisor: -0.009\n",
      "Salary vs Job Title_Senior Financial Analyst: -0.002\n",
      "Salary vs Job Title_Senior Financial Manager: -0.008\n",
      "Salary vs Job Title_Senior Graphic Designer: -0.001\n",
      "Salary vs Job Title_Senior HR Generalist: -0.037\n",
      "Salary vs Job Title_Senior HR Manager: 0.014\n",
      "Salary vs Job Title_Senior HR Specialist: 0.006\n",
      "Salary vs Job Title_Senior Human Resources Coordinator: -0.008\n",
      "Salary vs Job Title_Senior Human Resources Manager: -0.009\n",
      "Salary vs Job Title_Senior Human Resources Specialist: 0.001\n",
      "Salary vs Job Title_Senior IT Consultant: -0.002\n",
      "Salary vs Job Title_Senior IT Project Manager: 0.003\n",
      "Salary vs Job Title_Senior IT Support Specialist: -0.001\n",
      "Salary vs Job Title_Senior Manager: 0.015\n",
      "Salary vs Job Title_Senior Marketing Analyst: -0.018\n",
      "Salary vs Job Title_Senior Marketing Coordinator: -0.009\n",
      "Salary vs Job Title_Senior Marketing Director: 0.010\n",
      "Salary vs Job Title_Senior Marketing Manager: 0.008\n",
      "Salary vs Job Title_Senior Marketing Specialist: -0.008\n",
      "Salary vs Job Title_Senior Operations Analyst: -0.010\n",
      "Salary vs Job Title_Senior Operations Coordinator: -0.008\n",
      "Salary vs Job Title_Senior Operations Manager: -0.004\n",
      "Salary vs Job Title_Senior Product Designer: 0.017\n",
      "Salary vs Job Title_Senior Product Development Manager: -0.004\n",
      "Salary vs Job Title_Senior Product Manager: 0.004\n",
      "Salary vs Job Title_Senior Product Marketing Manager: 0.022\n",
      "Salary vs Job Title_Senior Project Coordinator: -0.012\n",
      "Salary vs Job Title_Senior Project Engineer: 0.215\n",
      "Salary vs Job Title_Senior Project Manager: 0.009\n",
      "Salary vs Job Title_Senior Quality Assurance Analyst: -0.004\n",
      "Salary vs Job Title_Senior Research Scientist: 0.037\n",
      "Salary vs Job Title_Senior Researcher: 0.008\n",
      "Salary vs Job Title_Senior Sales Manager: 0.006\n",
      "Salary vs Job Title_Senior Sales Representative: -0.007\n",
      "Salary vs Job Title_Senior Scientist: 0.003\n",
      "Salary vs Job Title_Senior Software Architect: 0.001\n",
      "Salary vs Job Title_Senior Software Developer: 0.001\n",
      "Salary vs Job Title_Senior Software Engineer: 0.133\n",
      "Salary vs Job Title_Senior Training Specialist: -0.004\n",
      "Salary vs Job Title_Senior UX Designer: 0.016\n",
      "Salary vs Job Title_Social Media Man: -0.004\n",
      "Salary vs Job Title_Social Media Manager: -0.052\n",
      "Salary vs Job Title_Social Media Specialist: -0.016\n",
      "Salary vs Job Title_Software Developer: -0.132\n",
      "Salary vs Job Title_Software Engineer: -0.011\n",
      "Salary vs Job Title_Software Engineer Manager: 0.264\n",
      "Salary vs Job Title_Software Manager: -0.001\n",
      "Salary vs Job Title_Software Project Manager: -0.005\n",
      "Salary vs Job Title_Strategy Consultant: 0.003\n",
      "Salary vs Job Title_Supply Chain Analyst: 0.003\n",
      "Salary vs Job Title_Supply Chain Manager: -0.002\n",
      "Salary vs Job Title_Technical Recruiter: -0.010\n",
      "Salary vs Job Title_Technical Support Specialist: -0.017\n",
      "Salary vs Job Title_Technical Writer: -0.016\n",
      "Salary vs Job Title_Training Specialist: -0.012\n",
      "Salary vs Job Title_UX Designer: -0.008\n",
      "Salary vs Job Title_UX Researcher: -0.012\n",
      "Salary vs Job Title_VP of Finance: 0.020\n",
      "Salary vs Job Title_VP of Operations: 0.017\n",
      "Salary vs Job Title_Web Developer: -0.106\n"
     ]
    }
   ],
   "source": [
    "# Fix: Include space in column name check\n",
    "jobtitle_cols = [col for col in df_clean.columns if col.startswith('Job Title_')]\n",
    "\n",
    "# Print correlation with Salary for each job title\n",
    "for col in jobtitle_cols:\n",
    "    corr_value = df_clean['Salary'].corr(df_clean[col])\n",
    "    print(f\"Salary vs {col}: {corr_value:.3f}\")\n"
   ]
  },
  {
   "cell_type": "code",
   "execution_count": 11,
   "id": "2c4927b8-4fd7-41db-badc-701bd99dfbb0",
   "metadata": {},
   "outputs": [
    {
     "name": "stdout",
     "output_type": "stream",
     "text": [
      "[ 1.  2.  3. nan  0.]\n"
     ]
    }
   ],
   "source": [
    "print(df_clean['Education Level'].unique())\n"
   ]
  },
  {
   "cell_type": "code",
   "execution_count": 12,
   "id": "d0c1a073-c75d-4b9d-81e5-7bf5da697fc3",
   "metadata": {},
   "outputs": [],
   "source": [
    "df_clean = df_clean.dropna(subset=['Education Level'])\n"
   ]
  },
  {
   "cell_type": "code",
   "execution_count": 20,
   "id": "6c5afa61-37e5-4a12-a469-b724de59a32a",
   "metadata": {},
   "outputs": [
    {
     "name": "stdout",
     "output_type": "stream",
     "text": [
      "[1. 2. 3. 0.]\n"
     ]
    }
   ],
   "source": [
    "print(df_clean['Education Level'].unique())"
   ]
  },
  {
   "cell_type": "code",
   "execution_count": 14,
   "id": "fc0fe8a5-4971-41cb-a934-ef92e8594676",
   "metadata": {},
   "outputs": [
    {
     "name": "stdout",
     "output_type": "stream",
     "text": [
      "Salary vs Education Level: 0.7049362984005374\n"
     ]
    }
   ],
   "source": [
    "print(\"Salary vs Education Level:\", df_clean['Salary'].corr(df_clean['Education Level']))"
   ]
  },
  {
   "cell_type": "markdown",
   "id": "e3b683cc-f14b-4fb1-ba41-5de99b7d4bc6",
   "metadata": {},
   "source": [
    "### 🧹 Preparing Features and Target for the Model\n",
    "\n",
    "To train our Linear Regression model, we need to prepare:\n",
    "\n",
    "- **Independent variables (features)**: The input predictors used to estimate salary.\n",
    "- **Dependent variable (target)**: The value we aim to predict — `Salary`.\n",
    "\n",
    "We selected the following columns for our model:\n",
    "\n",
    "- **Features (`X`)**:\n",
    "  - `Age`\n",
    "  - `Years of Experience`\n",
    "  - `Education Level`\n",
    "  - `Gender`\n",
    "\n",
    "- **Target (`y`)**:\n",
    "  - `Salary`\n",
    "\n",
    "> 🔍 **Note:** We **excluded the `Job Title`** column from the model because its correlation with `Salary` was found to be nearly zero. This indicates that `Job Title` has little to no linear influence on salary in this dataset, and including it may add unnecessary complexity without improving model performance.\n",
    "\n",
    "We also apply `.dropna()` to ensure there are no missing values in the selected data used for training.\n"
   ]
  },
  {
   "cell_type": "code",
   "execution_count": 15,
   "id": "91f628cb-55c2-4383-b2bf-c9812b4a76ae",
   "metadata": {},
   "outputs": [],
   "source": [
    "\n",
    "model_data = df_clean[['Age', 'Years of Experience', 'Education Level', 'Gender', 'Salary']].dropna()\n",
    "\n",
    "X = model_data[['Age', 'Years of Experience', 'Education Level', 'Gender']]\n",
    "y = model_data['Salary']\n"
   ]
  },
  {
   "cell_type": "markdown",
   "id": "9658be8e-5983-43b4-905f-28714abd3c89",
   "metadata": {},
   "source": [
    "### 📐 Linear Regression Model – Training and Interpretation\n",
    "\n",
    "We used a **Linear Regression model** to predict `Salary` based on several input features: `Age`, `Years of Experience`, `Education Level`, and `Gender`.\n",
    "\n",
    "---\n",
    "\n",
    "#### ✅ What is Linear Regression?\n",
    "\n",
    "Linear Regression is a **supervised learning algorithm** used for predicting a **continuous target variable** by modeling a **linear relationship** between input features and the target.\n",
    "\n",
    "The model assumes the relationship follows this equation:\n",
    "\n",
    "\\[\n",
    "\\text{Salary} = b_0 + b_1 \\cdot \\text{Age} + b_2 \\cdot \\text{Experience} + b_3 \\cdot \\text{Education Level} + b_4 \\cdot \\text{Gender}\n",
    "\\]\n",
    "\n",
    "---\n",
    "\n",
    "#### 🤖 Why Use Linear Regression Here?\n",
    "\n",
    "- We are predicting a **numerical value** (Salary), which is ideal for regression.\n",
    "- Our features like `Age`, `Experience`, and `Education Level` show good correlation with Salary.\n",
    "- Linear Regression is a simple, interpretable model that gives insight into how each feature impacts the outcome.\n",
    "\n",
    "---\n",
    "\n",
    "### 📊 Model Output\n",
    "\n",
    "- **Intercept (b₀)**: `134081.86`  \n",
    "  → This is the **baseline salary** when all input features are zero. It acts as a starting point for the prediction.\n",
    "\n",
    "- **Coefficients (b₁ to b₄)**:\n",
    "  \n",
    "| Feature               | Coefficient      | Interpretation |\n",
    "|-----------------------|------------------|----------------|\n",
    "| Age                   | `-2963.99`       | For each additional year in age (keeping other features constant), the salary **decreases** by ₹2963.99 on average. This may indicate overrepresentation of younger, highly paid individuals. |\n",
    "| Years of Experience   | `+7957.50`       | For each extra year of experience, the salary **increases** by ₹7957.50. This is a strong and positive relationship. |\n",
    "| Education Level       | `+17443.70`      | Each higher level of education (e.g., Bachelor's → Master's) increases salary by ₹17443.70 on average. |\n",
    "| Gender (1 = Female)   | `-8087.09`       | If the individual is female, salary is predicted to be ₹8087.09 **less** than male counterparts on average, indicating a **negative gender gap** in the dataset. |\n",
    "\n",
    "---\n",
    "\n",
    "#### 🧠 Conclusion\n",
    "\n",
    "- Experience and Education Level have the **most positive impact** on Salary.\n",
    "- Age has a **slight negative impact**, possibly due to younger employees being in high-paying roles.\n",
    "- Gender shows a **negative bias** in the data, which could reflect a real-world inequality or data imbalance.\n",
    "\n",
    "This interpretable model helps us understand the factors influencing salary and also reveals possible socio-economic patterns in the dataset.\n"
   ]
  },
  {
   "cell_type": "code",
   "execution_count": 22,
   "id": "7fc7300b-5a10-44ed-81e7-9c5ba5f56ae3",
   "metadata": {},
   "outputs": [
    {
     "name": "stdout",
     "output_type": "stream",
     "text": [
      "Intercept (b₀): 134081.86020160493\n",
      "Coefficients (b₁ to b₄): [-2963.99375896  7957.50063267 17443.70469447 -8087.09031715]\n"
     ]
    }
   ],
   "source": [
    "from sklearn.linear_model import LinearRegression\n",
    "\n",
    "model = LinearRegression()\n",
    "model.fit(X, y)\n",
    "\n",
    "print(\"Intercept (b₀):\", model.intercept_)\n",
    "print(\"Coefficients (b₁ to b₄):\", model.coef_)\n"
   ]
  },
  {
   "cell_type": "markdown",
   "id": "3646bd10-6d2d-49a6-9300-2f40a2282300",
   "metadata": {},
   "source": [
    "### 📊 Model Evaluation: R² Score and Mean Squared Error (MSE)\n",
    "\n",
    "After training the linear regression model, we evaluate its performance using two key metrics: **R² Score** and **Mean Squared Error (MSE)**.\n",
    "\n",
    "---\n",
    "\n",
    "#### 🔹 R² Score\n",
    "\n",
    "R² Score (Coefficient of Determination) measures how well the independent variables explain the variation in the target variable (`Salary`).\n",
    "\n",
    "- **Range**: 0 to 1 (can be negative for poor models)\n",
    "  - `1.0` → Perfect prediction\n",
    "  - `0.0` → Model predicts no better than the mean\n",
    "- **Formula**:  \n",
    "  \\[\n",
    "  R^2 = 1 - \\frac{SS_{res}}{SS_{tot}}\n",
    "  \\]\n",
    "\n",
    "In our case:\n",
    "R² Score: 0.6439\n",
    "\n",
    "\n",
    "📌 **Interpretation**:  \n",
    "The model explains **64.4% of the variation in Salary** using the features `Age`, `Years of Experience`, `Education Level`, and `Gender`. The remaining 35.6% of variation is likely due to other factors not included in the model.\n",
    "\n",
    "---\n",
    "\n",
    "#### 🔹 Mean Squared Error (MSE)\n",
    "\n",
    "MSE measures the **average squared difference** between actual and predicted salary values.\n",
    "\n",
    "- **Lower MSE** = Better model\n",
    "- **Sensitive to large errors** due to squaring\n",
    "\n",
    "In our case:\n",
    "MSE: 1,219,551,563.04\n",
    "\n",
    "\n",
    "📌 **Interpretation**:  \n",
    "The average squared prediction error is about ₹1.22 crore². This seems large, but can be reasonable depending on the salary scale in your dataset. If salaries are in lakhs or millions, this error may be acceptable.\n",
    "\n",
    "---\n",
    "\n",
    "### ✅ Summary\n",
    "\n",
    "- **R² Score** of `0.6439` indicates a moderately good fit.\n",
    "- **MSE** tells us there's still prediction error, possibly improvable by:\n",
    "  - Including more features (e.g., job title, industry, location)\n",
    "  - Using more advanced models\n",
    "- Overall, the model gives a decent approximation of salary trends with current features.\n"
   ]
  },
  {
   "cell_type": "code",
   "execution_count": 23,
   "id": "cac6b977-2385-4ab1-a9c8-b11fecc33323",
   "metadata": {},
   "outputs": [
    {
     "name": "stdout",
     "output_type": "stream",
     "text": [
      "R² Score: 0.6439484348461744\n",
      "MSE: 1219551563.0400114\n"
     ]
    }
   ],
   "source": [
    "from sklearn.metrics import r2_score, mean_squared_error\n",
    "\n",
    "y_pred = model.predict(X)\n",
    "print(\"R² Score:\", r2_score(y, y_pred))\n",
    "print(\"MSE:\", mean_squared_error(y, y_pred))\n"
   ]
  }
 ],
 "metadata": {
  "kernelspec": {
   "display_name": "Python 3 (ipykernel)",
   "language": "python",
   "name": "python3"
  },
  "language_info": {
   "codemirror_mode": {
    "name": "ipython",
    "version": 3
   },
   "file_extension": ".py",
   "mimetype": "text/x-python",
   "name": "python",
   "nbconvert_exporter": "python",
   "pygments_lexer": "ipython3",
   "version": "3.13.4"
  }
 },
 "nbformat": 4,
 "nbformat_minor": 5
}
